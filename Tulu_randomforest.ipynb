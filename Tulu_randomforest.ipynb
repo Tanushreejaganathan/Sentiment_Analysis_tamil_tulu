{
  "nbformat": 4,
  "nbformat_minor": 0,
  "metadata": {
    "colab": {
      "provenance": [],
      "include_colab_link": true
    },
    "kernelspec": {
      "name": "python3",
      "display_name": "Python 3"
    },
    "language_info": {
      "name": "python"
    }
  },
  "cells": [
    {
      "cell_type": "markdown",
      "metadata": {
        "id": "view-in-github",
        "colab_type": "text"
      },
      "source": [
        "<a href=\"https://colab.research.google.com/github/Tanushreejaganathan/Sentiment_Analysis_tamil_tulu/blob/main/Tulu_randomforest.ipynb\" target=\"_parent\"><img src=\"https://colab.research.google.com/assets/colab-badge.svg\" alt=\"Open In Colab\"/></a>"
      ]
    },
    {
      "cell_type": "code",
      "source": [
        "import pandas as pd\n",
        "from sklearn.feature_extraction.text import TfidfVectorizer\n",
        "from sklearn.ensemble import RandomForestClassifier\n",
        "from sklearn.model_selection import GridSearchCV\n",
        "from sklearn.metrics import classification_report\n",
        "\n",
        "# Load datasets\n",
        "train_path = '/content/drive/MyDrive/Tulutraincl1.csv'\n",
        "val_path = '/content/drive/MyDrive/Tuluvalcl1.csv'\n",
        "test_path = '/content/drive/MyDrive/Tulutestcl1.csv'\n",
        "\n",
        "train_df = pd.read_csv(train_path)\n",
        "val_df = pd.read_csv(val_path)\n",
        "test_df = pd.read_csv(test_path)\n",
        "\n",
        "# Combine train and validation data for training\n",
        "data_df = pd.concat([train_df, val_df], ignore_index=True)\n",
        "\n",
        "# Ensure labels are strings and handle missing labels\n",
        "data_df['Label'] = data_df['Label'].fillna('Unknown').astype(str)\n",
        "\n",
        "X_train, y_train = data_df['Text'].fillna(''), data_df['Label']\n",
        "X_test = test_df['Text'].fillna('')\n",
        "\n",
        "# TF-IDF Vectorization\n",
        "vectorizer = TfidfVectorizer(max_features=5000, ngram_range=(1, 2))  # Using unigrams and bigrams\n",
        "X_train_tfidf = vectorizer.fit_transform(X_train)\n",
        "X_test_tfidf = vectorizer.transform(X_test)\n",
        "\n",
        "# Hyperparameter tuning for Random Forest using GridSearchCV\n",
        "rf_params = {\n",
        "    'n_estimators': [100, 200, 300],  # Number of trees in the forest\n",
        "    'criterion': ['gini', 'entropy'],  # Splitting criteria\n",
        "    'max_depth': [10, 20, None],       # Maximum depth of the tree\n",
        "    'min_samples_split': [2, 5, 10],   # Minimum samples required to split an internal node\n",
        "    'min_samples_leaf': [1, 2, 5]      # Minimum samples required to be at a leaf node\n",
        "}\n",
        "\n",
        "rf_model = GridSearchCV(RandomForestClassifier(random_state=42), rf_params, cv=3, scoring='f1_macro', verbose=1, n_jobs=-1)\n",
        "rf_model.fit(X_train_tfidf, y_train)\n",
        "\n",
        "# Best parameters and model evaluation\n",
        "print(f\"Best Parameters: {rf_model.best_params_}\")\n",
        "y_pred_train = rf_model.predict(X_train_tfidf)\n",
        "print(\"\\nTraining Performance:\")\n",
        "print(classification_report(y_train, y_pred_train))\n",
        "\n",
        "# Predicting for the test dataset\n",
        "test_df['RandomForest_Predicted_Label'] = rf_model.predict(X_test_tfidf)\n",
        "test_predictions_path = '/content/drive/MyDrive/test_predictions_rf_tffi.csv'\n",
        "test_df.to_csv(test_predictions_path, index=False)\n",
        "print(f\"Random Forest predictions saved to {test_predictions_path}\")\n"
      ],
      "metadata": {
        "colab": {
          "base_uri": "https://localhost:8080/"
        },
        "id": "-feavTR-XPwN",
        "outputId": "db9020bc-0e0c-4f68-a084-2fdbbb0b458e"
      },
      "execution_count": null,
      "outputs": [
        {
          "output_type": "stream",
          "name": "stdout",
          "text": [
            "Fitting 3 folds for each of 162 candidates, totalling 486 fits\n",
            "Best Parameters: {'criterion': 'gini', 'max_depth': None, 'min_samples_leaf': 1, 'min_samples_split': 10, 'n_estimators': 300}\n",
            "\n",
            "Training Performance:\n",
            "              precision    recall  f1-score   support\n",
            "\n",
            "       Mixed       0.88      0.64      0.75      1257\n",
            "    Negative       0.91      0.76      0.83       961\n",
            "     Neutral       0.87      0.85      0.86      3543\n",
            "    Not Tulu       0.81      0.96      0.88      4943\n",
            "    Positive       0.89      0.82      0.85      4239\n",
            "     Unknown       1.00      0.12      0.22         8\n",
            "\n",
            "    accuracy                           0.85     14951\n",
            "   macro avg       0.89      0.69      0.73     14951\n",
            "weighted avg       0.86      0.85      0.85     14951\n",
            "\n",
            "Random Forest predictions saved to /content/drive/MyDrive/test_predictions_rf_tffi.csv\n"
          ]
        }
      ]
    },
    {
      "cell_type": "code",
      "source": [],
      "metadata": {
        "id": "HRfAdLVGxOFG"
      },
      "execution_count": null,
      "outputs": []
    }
  ]
}