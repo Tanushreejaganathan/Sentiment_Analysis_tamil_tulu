{
  "nbformat": 4,
  "nbformat_minor": 0,
  "metadata": {
    "colab": {
      "provenance": [],
      "mount_file_id": "1SsG_EbvttD6gRWvRqcODJY5Px-PK-_pz",
      "authorship_tag": "ABX9TyPx+N4oU4OiBXJKJjipgHzQ",
      "include_colab_link": true
    },
    "kernelspec": {
      "name": "python3",
      "display_name": "Python 3"
    },
    "language_info": {
      "name": "python"
    }
  },
  "cells": [
    {
      "cell_type": "markdown",
      "metadata": {
        "id": "view-in-github",
        "colab_type": "text"
      },
      "source": [
        "<a href=\"https://colab.research.google.com/github/Tanushreejaganathan/Sentiment_Analysis_tamil_tulu/blob/main/Tulu_Knn_decisontree.ipynb\" target=\"_parent\"><img src=\"https://colab.research.google.com/assets/colab-badge.svg\" alt=\"Open In Colab\"/></a>"
      ]
    },
    {
      "cell_type": "markdown",
      "source": [
        "Tulu language Knn model"
      ],
      "metadata": {
        "id": "amy5gJ6E0t-E"
      }
    },
    {
      "cell_type": "code",
      "source": [
        "import pandas as pd\n",
        "from sklearn.feature_extraction.text import TfidfVectorizer\n",
        "from sklearn.neighbors import KNeighborsClassifier\n",
        "from sklearn.model_selection import GridSearchCV\n",
        "from sklearn.metrics import classification_report\n",
        "\n",
        "# Load datasets\n",
        "train_df = pd.read_csv('/content/drive/MyDrive/Tulutraincl1.csv')\n",
        "val_df = pd.read_csv('/content/drive/MyDrive/Tuluvalcl1.csv')\n",
        "test_df = pd.read_csv('/content/drive/MyDrive/Tulutestcl1.csv')\n",
        "\n",
        "train_df = pd.read_csv(train_path)\n",
        "val_df = pd.read_csv(val_path)\n",
        "test_df = pd.read_csv(test_path)\n",
        "\n",
        "# Combine train and validation data for training\n",
        "data_df = pd.concat([train_df, val_df], ignore_index=True)\n",
        "\n",
        "# Ensure labels are strings and handle missing labels\n",
        "data_df['Label'] = data_df['Label'].fillna('Unknown').astype(str)\n",
        "\n",
        "X_train, y_train = data_df['Text'].fillna(''), data_df['Label']\n",
        "X_test = test_df['Text'].fillna('')\n",
        "\n",
        "# TF-IDF Vectorization\n",
        "vectorizer = TfidfVectorizer(max_features=5000)  # Using unigrams, bigrams, and trigrams\n",
        "X_train_tfidf = vectorizer.fit_transform(X_train)\n",
        "X_test_tfidf = vectorizer.transform(X_test)\n",
        "\n",
        "# Hyperparameter tuning for KNN using GridSearchCV\n",
        "knn_params = {\n",
        "    'n_neighbors': [3, 5, 7, 9],\n",
        "    'weights': ['uniform', 'distance'],\n",
        "    'metric': ['euclidean', 'manhattan']\n",
        "}\n",
        "\n",
        "knn_model = GridSearchCV(KNeighborsClassifier(), knn_params, cv=3, scoring='f1_macro', verbose=1, n_jobs=-1)\n",
        "knn_model.fit(X_train_tfidf, y_train)\n",
        "\n",
        "# Best parameters and model evaluation\n",
        "print(f\"Best Parameters: {knn_model.best_params_}\")\n",
        "y_pred_train = knn_model.predict(X_train_tfidf)\n",
        "print(\"\\nTraining Performance:\")\n",
        "print(classification_report(y_train, y_pred_train))\n",
        "\n",
        "# Predicting for the test dataset\n",
        "test_df['KNN_Predicted_Label'] = knn_model.predict(X_test_tfidf)\n",
        "test_predictions_path = '/content/drive/MyDrive/test_predictions_knn.csv'\n",
        "test_df.to_csv(test_predictions_path, index=False)\n",
        "print(f\"KNN predictions saved to {test_predictions_path}\")\n"
      ],
      "metadata": {
        "colab": {
          "base_uri": "https://localhost:8080/"
        },
        "id": "TfZVDA_xXPgW",
        "outputId": "94d37ab7-48f2-4843-c8a6-1191b88f256f"
      },
      "execution_count": null,
      "outputs": [
        {
          "output_type": "stream",
          "name": "stdout",
          "text": [
            "Fitting 3 folds for each of 16 candidates, totalling 48 fits\n"
          ]
        },
        {
          "output_type": "stream",
          "name": "stderr",
          "text": [
            "/usr/local/lib/python3.10/dist-packages/sklearn/model_selection/_search.py:1107: UserWarning: One or more of the test scores are non-finite: [0.29549122 0.32166186 0.28205981 0.30699995 0.27192253 0.30023185\n",
            " 0.25836221 0.29131566        nan 0.25512165        nan 0.22908168\n",
            "        nan 0.22178717        nan 0.23547616]\n",
            "  warnings.warn(\n"
          ]
        },
        {
          "output_type": "stream",
          "name": "stdout",
          "text": [
            "Best Parameters: {'metric': 'euclidean', 'n_neighbors': 3, 'weights': 'distance'}\n",
            "\n",
            "Training Performance:\n",
            "              precision    recall  f1-score   support\n",
            "\n",
            "       Mixed       0.82      0.98      0.89      1257\n",
            "    Negative       0.95      0.94      0.94       961\n",
            "     Neutral       0.95      0.92      0.94      3543\n",
            "    Not Tulu       0.99      0.96      0.97      4943\n",
            "    Positive       0.94      0.95      0.94      4239\n",
            "     Unknown       1.00      0.62      0.77         8\n",
            "\n",
            "    accuracy                           0.95     14951\n",
            "   macro avg       0.94      0.89      0.91     14951\n",
            "weighted avg       0.95      0.95      0.95     14951\n",
            "\n",
            "KNN predictions saved to /content/drive/MyDrive/test_predictions_knn.csv\n"
          ]
        }
      ]
    },
    {
      "cell_type": "markdown",
      "source": [
        "Tulu language decision tree"
      ],
      "metadata": {
        "id": "Hzp6oIPe06DK"
      }
    },
    {
      "cell_type": "code",
      "source": [
        "import pandas as pd\n",
        "from sklearn.feature_extraction.text import TfidfVectorizer\n",
        "from sklearn.tree import DecisionTreeClassifier\n",
        "from sklearn.model_selection import GridSearchCV\n",
        "from sklearn.metrics import classification_report\n",
        "\n",
        "# Load datasets\n",
        "train_df = pd.read_csv('/content/drive/MyDrive/Tulutraincl1.csv')\n",
        "val_df = pd.read_csv('/content/drive/MyDrive/Tuluvalcl1.csv')\n",
        "test_df = pd.read_csv('/content/drive/MyDrive/Tulutestcl1.csv')\n",
        "\n",
        "train_df = pd.read_csv(train_path)\n",
        "val_df = pd.read_csv(val_path)\n",
        "test_df = pd.read_csv(test_path)\n",
        "\n",
        "# Combine train and validation data for training\n",
        "data_df = pd.concat([train_df, val_df], ignore_index=True)\n",
        "\n",
        "# Ensure labels are strings and handle missing labels\n",
        "data_df['Label'] = data_df['Label'].fillna('Unknown').astype(str)\n",
        "\n",
        "X_train, y_train = data_df['Text'].fillna(''), data_df['Label']\n",
        "X_test = test_df['Text'].fillna('')\n",
        "\n",
        "# TF-IDF Vectorization\n",
        "vectorizer = TfidfVectorizer(max_features=5000,ngram_range=(1, 2))  # Using unigrams, bigrams, and trigrams\n",
        "X_train_tfidf = vectorizer.fit_transform(X_train)\n",
        "X_test_tfidf = vectorizer.transform(X_test)\n",
        "\n",
        "# Hyperparameter tuning for Decision Tree using GridSearchCV\n",
        "dt_params = {\n",
        "    'criterion': ['gini', 'entropy'],  # Splitting criteria\n",
        "    'max_depth': [10, 20, 30, None],  # Tree depth\n",
        "    'min_samples_split': [2, 5, 10],  # Minimum samples required to split an internal node\n",
        "    'min_samples_leaf': [1, 2, 5]     # Minimum samples required to be at a leaf node\n",
        "}\n",
        "\n",
        "dt_model = GridSearchCV(DecisionTreeClassifier(random_state=42), dt_params, cv=3, scoring='f1_macro', verbose=1, n_jobs=-1)\n",
        "dt_model.fit(X_train_tfidf, y_train)\n",
        "\n",
        "# Best parameters and model evaluation\n",
        "print(f\"Best Parameters: {dt_model.best_params_}\")\n",
        "y_pred_train = dt_model.predict(X_train_tfidf)\n",
        "print(\"\\nTraining Performance:\")\n",
        "print(classification_report(y_train, y_pred_train))\n",
        "\n",
        "# Predicting for the test dataset\n",
        "test_df['DecisionTree_Predicted_Label'] = dt_model.predict(X_test_tfidf)\n",
        "test_predictions_path = '/content/drive/MyDrive/test_predictions_dt.csv'\n",
        "test_df.to_csv(test_predictions_path, index=False)\n",
        "print(f\"Decision Tree predictions saved to {test_predictions_path}\")\n"
      ],
      "metadata": {
        "colab": {
          "base_uri": "https://localhost:8080/"
        },
        "id": "5qV-n5c3dnpl",
        "outputId": "cf9f2608-9aeb-4378-8084-30cb09f3aba7"
      },
      "execution_count": null,
      "outputs": [
        {
          "output_type": "stream",
          "name": "stdout",
          "text": [
            "Fitting 3 folds for each of 72 candidates, totalling 216 fits\n",
            "Best Parameters: {'criterion': 'gini', 'max_depth': None, 'min_samples_leaf': 1, 'min_samples_split': 2}\n",
            "\n",
            "Training Performance:\n",
            "              precision    recall  f1-score   support\n",
            "\n",
            "       Mixed       0.82      0.97      0.88      1257\n",
            "    Negative       0.93      0.93      0.93       961\n",
            "     Neutral       0.95      0.91      0.93      3543\n",
            "    Not Tulu       0.94      0.98      0.96      4943\n",
            "    Positive       0.99      0.93      0.96      4239\n",
            "     Unknown       1.00      0.62      0.77         8\n",
            "\n",
            "    accuracy                           0.94     14951\n",
            "   macro avg       0.94      0.89      0.91     14951\n",
            "weighted avg       0.95      0.94      0.94     14951\n",
            "\n",
            "Decision Tree predictions saved to /content/drive/MyDrive/test_predictions_dt.csv\n"
          ]
        }
      ]
    },
    {
      "cell_type": "code",
      "source": [],
      "metadata": {
        "id": "X3xlLfOh5q4c"
      },
      "execution_count": null,
      "outputs": []
    }
  ]
}