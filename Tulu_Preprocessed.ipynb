{
  "nbformat": 4,
  "nbformat_minor": 0,
  "metadata": {
    "colab": {
      "provenance": [],
      "mount_file_id": "1SsG_EbvttD6gRWvRqcODJY5Px-PK-_pz",
      "authorship_tag": "ABX9TyNNzP+NbH9vCMgVcVZlPNkg",
      "include_colab_link": true
    },
    "kernelspec": {
      "name": "python3",
      "display_name": "Python 3"
    },
    "language_info": {
      "name": "python"
    }
  },
  "cells": [
    {
      "cell_type": "markdown",
      "metadata": {
        "id": "view-in-github",
        "colab_type": "text"
      },
      "source": [
        "<a href=\"https://colab.research.google.com/github/Tanushreejaganathan/Sentiment_Analysis_tamil_tulu/blob/main/Tulu_Preprocessed.ipynb\" target=\"_parent\"><img src=\"https://colab.research.google.com/assets/colab-badge.svg\" alt=\"Open In Colab\"/></a>"
      ]
    },
    {
      "cell_type": "code",
      "source": [
        "# Preprocessing techniques\n",
        "import pandas as pd\n",
        "import re\n",
        "from collections import Counter\n",
        "\n",
        "# Load your datasets\n",
        "train_path = '/content/drive/MyDrive/Tulu_SA_train.csv'\n",
        "val_path = '/content/drive/MyDrive/Tulu_SA_val.csv'\n",
        "test_path = '/content/drive/MyDrive/Tulu_SA_test_without_label.csv'\n",
        "\n",
        "\n",
        "train_df = pd.read_csv(train_path)\n",
        "val_df = pd.read_csv(val_path)\n",
        "test_df = pd.read_csv(test_path)\n",
        "\n",
        "# Combine all text data for analysis\n",
        "combined_text = pd.concat([train_df['Text'], val_df['Text'], test_df['Text']], ignore_index=True)\n",
        "\n",
        "# Function to clean and tokenize text\n",
        "def clean_and_tokenize(text):\n",
        "    if isinstance(text, str):\n",
        "        # Lowercase and remove non-Tulu (non-Kannada script) characters\n",
        "        text = re.sub(r'[^a-zA-Z\\u0C80-\\u0CFF\\s]', '', text.lower())\n",
        "        return text.split()  # Split into words\n",
        "    return []\n",
        "\n",
        "# Tokenize all text data\n",
        "tokens = []\n",
        "for text in combined_text.dropna():\n",
        "    tokens.extend(clean_and_tokenize(text))\n",
        "\n",
        "# Count word frequencies\n",
        "word_freq = Counter(tokens)\n",
        "\n",
        "# Determine stopwords based on frequency\n",
        "# Adjust the threshold as needed (e.g., top 100 words)\n",
        "stopwords = [word for word, freq in word_freq.most_common(100)]\n",
        "\n",
        "# Print or save the stopwords\n",
        "print(\"Identified Stopwords in Tulu Language:\")\n",
        "print(stopwords)\n",
        "\n",
        "# Optionally, save stopwords to a file\n",
        "with open('tulu_stopwords.txt', 'w', encoding='utf-8') as f:\n",
        "    for word in stopwords:\n",
        "        f.write(f\"{word}\\n\")\n"
      ],
      "metadata": {
        "colab": {
          "base_uri": "https://localhost:8080/"
        },
        "id": "2lN7CY8cQT7V",
        "outputId": "127556d6-453c-4d06-9bd4-109b07683462"
      },
      "execution_count": null,
      "outputs": [
        {
          "output_type": "stream",
          "name": "stdout",
          "text": [
            "Identified Stopwords in Tulu Language:\n",
            "['super', 'comedy', 'pukuli', 'the', 'song', 'tulu', 'undu', 'is', 'i', 'bro', 'and', 'sir', 'da', 'movie', 'anna', 'best', 'in', 'of', 'full', 'team', 'you', 'all', 'this', 'video', 'good', 'nice', 'love', 'na', 'd', 'like', 'to', 'masth', 'marre', 'koointulu', 'a', 'please', 'acting', 'malpule', 'very', 'u', 'santhu', 'maya', 'for', 'yedde', 'edde', 'it', 'onji', 'mare', 'upload', 'kudla', 'from', 'tulubaravu', 'jaitulunad', 'ಸೂಪರ್', 'superb', 'namma', 'tuluscript', 'ತುಲು', 'tulunad', 'padle', 'my', 'la', 'tululipi', 'jai', 'voice', 'ತುಳು', 'dada', 'plz', 'e', 'bari', 'mast', 'baari', 'n', 'g', 'ye', 'rai', 'next', 'ajji', 'nataka', 'film', 'tulubarahu', 'porlu', 'wow', 'are', 'one', 'your', 'bale', 'so', 'arpith', 'act', 'but', 'pls', 'korle', 'we', 'yan', 'santu', 'erna', 'up', 'spr', 'show']\n"
          ]
        }
      ]
    },
    {
      "cell_type": "markdown",
      "source": [
        "Preprocessing technique for tulu language"
      ],
      "metadata": {
        "id": "wUDTYbBn0mRU"
      }
    },
    {
      "cell_type": "code",
      "source": [
        "import pandas as pd\n",
        "import re\n",
        "from nltk.tokenize import word_tokenize\n",
        "from nltk.stem import PorterStemmer, WordNetLemmatizer\n",
        "from nltk.corpus import wordnet\n",
        "import nltk\n",
        "\n",
        "# Download necessary NLTK resources\n",
        "nltk.download('punkt')\n",
        "nltk.download('wordnet')\n",
        "nltk.download('averaged_perceptron_tagger')\n",
        "nltk.download('averaged_perceptron_tagger_eng')\n",
        "\n",
        "nltk.download('punkt_tab')\n",
        "\n",
        "# Custom stopwords derived from the dataset\n",
        "tulu_stopwords = {\n",
        "    'super', 'comedy', 'pukuli', 'the', 'song', 'tulu', 'undu', 'is', 'i', 'bro', 'and', 'sir',\n",
        "    'da', 'movie', 'anna', 'best', 'in', 'of', 'full', 'team', 'you', 'all', 'this', 'video',\n",
        "    'good', 'nice', 'love', 'na', 'd', 'like', 'to', 'masth', 'marre', 'koointulu', 'a',\n",
        "    'please', 'acting', 'malpule', 'very', 'u', 'santhu', 'maya', 'for', 'yedde', 'edde', 'it',\n",
        "    'onji', 'mare', 'upload', 'kudla', 'from', 'tulubaravu', 'jaitulunad', 'ಸೂಪರ್', 'superb',\n",
        "    'namma', 'tuluscript', 'ತುಲು', 'tulunad', 'padle', 'my', 'la', 'tululipi', 'jai', 'voice',\n",
        "    'ತುಳು', 'dada', 'plz', 'e', 'bari', 'mast', 'baari', 'n', 'g', 'ye', 'rai', 'next', 'ajji',\n",
        "    'nataka', 'film', 'tulubarahu', 'porlu', 'wow', 'are', 'one', 'your', 'bale', 'so', 'arpith',\n",
        "    'act', 'but', 'pls', 'korle', 'we', 'yan', 'santu', 'erna', 'up', 'spr', 'show'\n",
        "}\n",
        "\n",
        "# Function to get POS tag for lemmatization\n",
        "def get_wordnet_pos(word):\n",
        "    \"\"\"Map POS tag to first character lemmatize() accepts.\"\"\"\n",
        "    tag = nltk.pos_tag([word])[0][1][0].upper()\n",
        "    tag_dict = {\n",
        "        'J': wordnet.ADJ,\n",
        "        'N': wordnet.NOUN,\n",
        "        'V': wordnet.VERB,\n",
        "        'R': wordnet.ADV\n",
        "    }\n",
        "    return tag_dict.get(tag, wordnet.NOUN)\n",
        "\n",
        "# Preprocessing function\n",
        "def preprocess_text(text, stopwords):\n",
        "    \"\"\"Preprocess text by cleaning, tokenizing, removing stopwords, and stemming/lemmatization.\"\"\"\n",
        "    stemmer = PorterStemmer()\n",
        "    lemmatizer = WordNetLemmatizer()\n",
        "\n",
        "    if isinstance(text, str):\n",
        "        # Lowercase conversion\n",
        "        text = text.lower()\n",
        "\n",
        "        # Remove URLs\n",
        "        text = re.sub(r'http\\S+|www\\S+', '', text)\n",
        "\n",
        "        # Remove HTML tags\n",
        "        text = re.sub(r'<.*?>', '', text)\n",
        "\n",
        "        # Remove special characters and numbers (includes Kannada Unicode range)\n",
        "        text = re.sub(r'[^a-zA-Z\\u0C80-\\u0CFF\\s]', '', text)\n",
        "\n",
        "        # Tokenize\n",
        "        tokens = word_tokenize(text)\n",
        "\n",
        "        # Remove custom stopwords\n",
        "        tokens = [word for word in tokens if word not in stopwords]\n",
        "\n",
        "        # Remove short words\n",
        "        tokens = [word for word in tokens if len(word) > 2]\n",
        "\n",
        "        # Lemmatization\n",
        "        tokens = [lemmatizer.lemmatize(word, get_wordnet_pos(word)) for word in tokens]\n",
        "\n",
        "        # Stemming\n",
        "        tokens = [stemmer.stem(word) for word in tokens]\n",
        "\n",
        "        # Remove duplicate words\n",
        "        tokens = list(dict.fromkeys(tokens))\n",
        "\n",
        "        return ' '.join(tokens)\n",
        "    return text\n",
        "\n",
        "train_path = '/content/drive/MyDrive/Tulu_SA_train.csv'\n",
        "val_path = '/content/drive/MyDrive/Tulu_SA_val.csv'\n",
        "test_path = '/content/drive/MyDrive/Tulu_SA_test_without_label.csv'\n",
        "\n",
        "train_df = pd.read_csv(train_path)\n",
        "val_df = pd.read_csv(val_path)\n",
        "test_df = pd.read_csv(test_path)\n",
        "\n",
        "# Replace 'Text' column with preprocessed data\n",
        "train_df['Text'] = train_df['Text'].apply(lambda x: preprocess_text(x, tulu_stopwords))\n",
        "val_df['Text'] = val_df['Text'].apply(lambda x: preprocess_text(x, tulu_stopwords))\n",
        "test_df['Text'] = test_df['Text'].apply(lambda x: preprocess_text(x, tulu_stopwords))\n",
        "\n",
        "# Save processed datasets\n",
        "train_df.to_csv('/content/drive/MyDrive/Tulutraincl1.csv', index=False)\n",
        "val_df.to_csv('/content/drive/MyDrive/Tuluvalcl1.csv', index=False)\n",
        "test_df.to_csv('/content/drive/MyDrive/Tulutestcl1.csv', index=False)\n",
        "\n",
        "print(\"Preprocessing complete. Cleaned datasets saved.\")\n"
      ],
      "metadata": {
        "colab": {
          "base_uri": "https://localhost:8080/"
        },
        "id": "7NUIynD0SvIH",
        "outputId": "9a47da76-23f1-4672-e361-6cdc9fbdc4c5"
      },
      "execution_count": null,
      "outputs": [
        {
          "output_type": "stream",
          "name": "stderr",
          "text": [
            "[nltk_data] Downloading package punkt to /root/nltk_data...\n",
            "[nltk_data]   Package punkt is already up-to-date!\n",
            "[nltk_data] Downloading package wordnet to /root/nltk_data...\n",
            "[nltk_data]   Package wordnet is already up-to-date!\n",
            "[nltk_data] Downloading package averaged_perceptron_tagger to\n",
            "[nltk_data]     /root/nltk_data...\n",
            "[nltk_data]   Package averaged_perceptron_tagger is already up-to-\n",
            "[nltk_data]       date!\n",
            "[nltk_data] Downloading package averaged_perceptron_tagger_eng to\n",
            "[nltk_data]     /root/nltk_data...\n",
            "[nltk_data]   Unzipping taggers/averaged_perceptron_tagger_eng.zip.\n",
            "[nltk_data] Downloading package punkt_tab to /root/nltk_data...\n",
            "[nltk_data]   Package punkt_tab is already up-to-date!\n"
          ]
        },
        {
          "output_type": "stream",
          "name": "stdout",
          "text": [
            "Preprocessing complete. Cleaned datasets saved.\n"
          ]
        }
      ]
    },
    {
      "cell_type": "code",
      "source": [],
      "metadata": {
        "id": "X3xlLfOh5q4c"
      },
      "execution_count": null,
      "outputs": []
    }
  ]
}